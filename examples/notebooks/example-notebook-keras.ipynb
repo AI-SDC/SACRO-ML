{
    "cells": [
        {
            "cell_type": "markdown",
            "id": "6d9366ac",
            "metadata": {},
            "source": [
                "# Safe Keras Notebook \n",
                "  "
            ]
        },
        {
            "cell_type": "code",
            "execution_count": 1,
            "id": "f96259b1",
            "metadata": {},
            "outputs": [],
            "source": [
                "import os\n",
                "\n",
                "\n",
                "### Lines below set some path variables: only developers should need to  change this\n",
                "# from os.path import expanduser\n",
                "\n",
                "# ROOT_DIR = os.path.dirname(os.path.dirname(os.path.abspath(\"\")))\n",
                "# sys.path.append(ROOT_DIR)\n",
                "# home = expanduser(\"~\")\n",
                "# sys.path.append(os.path.abspath(home + \"/GitHub/AI-SDC/SACRO-ML\"))\n",
                "\n",
                "# sys.path.insert(0, os.path.abspath(\"..\"))"
            ]
        },
        {
            "cell_type": "code",
            "execution_count": 2,
            "id": "594e2527",
            "metadata": {},
            "outputs": [],
            "source": [
                "import matplotlib.pyplot as plt\n",
                "import numpy as np\n",
                "\n",
                "%matplotlib inline\n",
                "\n",
                "# Scikit-learn utils\n",
                "# Tensorflow imports\n",
                "import tensorflow as tf\n",
                "\n",
                "# Safe Keras\n",
                "from aisdc.safemodel.classifiers import SafeKerasModel\n",
                "from sklearn.datasets import make_classification\n",
                "\n",
                "# Classifiers for attack models\n",
                "from sklearn.metrics import (\n",
                "    classification_report,\n",
                "    confusion_matrix,\n",
                ")\n",
                "from sklearn.model_selection import train_test_split\n",
                "from tensorflow.keras.layers import Dense, Input\n",
                "\n",
                "# set tensorflow messages to warning level\n",
                "tf.get_logger().setLevel(\"WARNING\")"
            ]
        },
        {
            "cell_type": "markdown",
            "id": "b0599f07",
            "metadata": {},
            "source": [
                "## A Quick Start Guide to implementing Safer Keras Models\n",
                "### Definition of the datasets\n",
                "1. We draw data points from a distribution.\n",
                "2. We split these data points into the target dataset and a shadow dataset drawn from the same distribution.\n",
                "3. We also draw a dataset from a different distribution.\n",
                "\n",
                "**NOTE**. ***we make datasets with few samples but with many features to force the target model to overfit.***\n",
                "\n",
                "\n",
                "**NOTE**: batch_size 25 so DP optimizer would run with same hyperparams\n",
                "\n",
                "**NOTE**: Next cell determines which dataset is used"
            ]
        },
        {
            "cell_type": "code",
            "execution_count": 3,
            "id": "d2bde25d",
            "metadata": {},
            "outputs": [],
            "source": [
                "simple_data_for_pytests = False"
            ]
        },
        {
            "cell_type": "code",
            "execution_count": 4,
            "id": "488fa7af",
            "metadata": {},
            "outputs": [],
            "source": [
                "if not simple_data_for_pytests:\n",
                "    n_classes = 2\n",
                "\n",
                "    # (X,y): Original distribution\n",
                "    X, y = make_classification(\n",
                "        n_samples=1000,\n",
                "        n_classes=n_classes,\n",
                "        n_features=300,\n",
                "        n_informative=300,\n",
                "        n_redundant=0,\n",
                "        n_repeated=0,\n",
                "        random_state=15,\n",
                "    )\n",
                "    # One-hot encoding of the label\n",
                "    y = np.eye(n_classes)[y]\n",
                "\n",
                "    # (Xt, yt) is the target dataset, owned by the TRE and drawn from the (X,y) distribution\n",
                "    # (Xs, ys) is a shadow dataset drawn from the (X,y) distribution\n",
                "    Xt, Xs, yt, ys = train_test_split(X, y, test_size=0.50, random_state=15)\n",
                "\n",
                "    # (Xd, yd) is a shadow dataset, drawn from a different distribution (different seed)\n",
                "    Xd, yd = make_classification(\n",
                "        n_samples=1000,\n",
                "        n_classes=n_classes,\n",
                "        n_features=300,\n",
                "        n_informative=300,\n",
                "        n_redundant=0,\n",
                "        n_repeated=0,\n",
                "        random_state=42,\n",
                "    )\n",
                "    yd = np.eye(n_classes)[yd]\n",
                "\n",
                "    # Split into train (member) and test (non-member) datasets\n",
                "    # Set shuffle to False so that Xt_membership is consistent with Xt, otherwise\n",
                "    # we need to stack Xt_member and Xt_nonmember again to get a consistent Xt.\n",
                "    Xt_member, Xt_nonmember, yt_member, yt_nonmember = train_test_split(\n",
                "        Xt, yt, test_size=0.5, shuffle=False\n",
                "    )\n",
                "\n",
                "    # Set membership status for future tests\n",
                "    Xt_membership = np.vstack(\n",
                "        (\n",
                "            np.ones((Xt_member.shape[0], 1), np.uint8),\n",
                "            np.zeros((Xt_nonmember.shape[0], 1), np.uint8),\n",
                "        )\n",
                "    ).flatten()\n",
                "\n",
                "    X = Xt_member\n",
                "    y = yt_member\n",
                "    Xval = Xt_nonmember\n",
                "    yval = yt_nonmember"
            ]
        },
        {
            "cell_type": "code",
            "execution_count": 5,
            "id": "f8845b4b",
            "metadata": {},
            "outputs": [],
            "source": [
                "if simple_data_for_pytests:\n",
                "    from sklearn import datasets\n",
                "\n",
                "    def get_data():\n",
                "        iris = datasets.load_iris()\n",
                "        x = np.asarray(iris.data, dtype=np.float64)\n",
                "        y = np.asarray(iris.target, dtype=np.float64)\n",
                "        return x, y\n",
                "\n",
                "    xall, yall = get_data()\n",
                "    n_classes = 4\n",
                "    X, Xval, y, yval = train_test_split(\n",
                "        xall, yall, test_size=0.2, shuffle=True, random_state=12345\n",
                "    )\n",
                "\n",
                "    y = tf.one_hot(y, n_classes)\n",
                "    yval = tf.one_hot(yval, n_classes)\n",
                "# yval"
            ]
        },
        {
            "cell_type": "markdown",
            "id": "7f2b7816",
            "metadata": {},
            "source": [
                "## Define the target model architecture\n",
                "\n",
                "*Again, we use a rather big model (for the classification task) to favour overfitting.*"
            ]
        },
        {
            "cell_type": "code",
            "execution_count": 6,
            "id": "d20787df",
            "metadata": {},
            "outputs": [
                {
                    "name": "stderr",
                    "output_type": "stream",
                    "text": [
                        "2023-10-12 01:54:15.775124: I metal_plugin/src/device/metal_device.cc:1154] Metal device set to: Apple M1 Pro\n",
                        "2023-10-12 01:54:15.775149: I metal_plugin/src/device/metal_device.cc:296] systemMemory: 32.00 GB\n",
                        "2023-10-12 01:54:15.775155: I metal_plugin/src/device/metal_device.cc:313] maxCacheSize: 10.67 GB\n",
                        "2023-10-12 01:54:15.775217: I tensorflow/core/common_runtime/pluggable_device/pluggable_device_factory.cc:303] Could not identify NUMA node of platform GPU ID 0, defaulting to 0. Your kernel may not have been built with NUMA support.\n",
                        "2023-10-12 01:54:15.775317: I tensorflow/core/common_runtime/pluggable_device/pluggable_device_factory.cc:269] Created TensorFlow device (/job:localhost/replica:0/task:0/device:GPU:0 with 0 MB memory) -> physical PluggableDevice (device: 0, name: METAL, pci bus id: <undefined>)\n",
                        "/Users/j4-smith/miniforge3/envs/aisdc-v1.1/lib/python3.9/site-packages/keras/src/initializers/initializers.py:120: UserWarning: The initializer GlorotUniform is unseeded and being called multiple times, which will return identical values each time (even if the initializer is unseeded). Please update your code to provide a seed to the initializer, or avoid using the same initializer instance more than once.\n",
                        "  warnings.warn(\n"
                    ]
                }
            ],
            "source": [
                "# Define target model\n",
                "# Tensorflow model (MLP) (making it big to make it overfit)\n",
                "\n",
                "# make results repeatable\n",
                "tf.random.set_seed(12345)\n",
                "initializer = tf.keras.initializers.GlorotUniform()\n",
                "\n",
                "input_data = Input(shape=X[0].shape)\n",
                "x = Dense(128, activation=\"relu\", kernel_initializer=initializer)(input_data)\n",
                "x = Dense(128, activation=\"relu\", kernel_initializer=initializer)(x)\n",
                "x = Dense(64, activation=\"relu\", kernel_initializer=initializer)(x)\n",
                "output = Dense(n_classes, activation=\"softmax\", kernel_initializer=initializer)(x)"
            ]
        },
        {
            "cell_type": "markdown",
            "id": "7bbed581",
            "metadata": {},
            "source": [
                "### Define the SafeModel"
            ]
        },
        {
            "cell_type": "code",
            "execution_count": 7,
            "id": "944288d2",
            "metadata": {},
            "outputs": [
                {
                    "name": "stdout",
                    "output_type": "stream",
                    "text": [
                        "Preliminary checks: WARNING: model parameters may present a disclosure risk:\n",
                        "- parameter noise_multiplier = 0.5 identified as less than the recommended min value of 0.7.\n",
                        "Changed parameter noise_multiplier = 0.7.\n",
                        "\n"
                    ]
                }
            ],
            "source": [
                "safeModel = SafeKerasModel(\n",
                "    inputs=input_data,\n",
                "    outputs=output,\n",
                "    name=\"safekeras-test\",\n",
                "    num_samples=X.shape[0],\n",
                "    epochs=10,\n",
                ")"
            ]
        },
        {
            "cell_type": "markdown",
            "id": "6534c8b7",
            "metadata": {},
            "source": [
                "### Set loss and compile"
            ]
        },
        {
            "cell_type": "code",
            "execution_count": 8,
            "id": "b76b10b9",
            "metadata": {},
            "outputs": [
                {
                    "name": "stdout",
                    "output_type": "stream",
                    "text": [
                        "During compilation: Changed parameter optimizer = 'DPKerasSGDOptimizer'\n"
                    ]
                }
            ],
            "source": [
                "loss = tf.keras.losses.CategoricalCrossentropy(\n",
                "    from_logits=False, reduction=tf.losses.Reduction.NONE\n",
                ")\n",
                "\n",
                "\n",
                "safeModel.compile(loss=loss, optimizer=None)"
            ]
        },
        {
            "cell_type": "markdown",
            "id": "d0e4a371",
            "metadata": {},
            "source": [
                "### Fit the model"
            ]
        },
        {
            "cell_type": "code",
            "execution_count": 9,
            "id": "b2e4da84",
            "metadata": {},
            "outputs": [
                {
                    "name": "stderr",
                    "output_type": "stream",
                    "text": [
                        "WARNING:absl:`compute_dp_sgd_privacy` is deprecated. It does not account for doubling of sensitivity with microbatching, and assumes Poisson subsampling, which is rarely used in practice. Please use `compute_dp_sgd_privacy_statement`, which provides appropriate context for the guarantee. To compute epsilon under different assumptions than those in `compute_dp_sgd_privacy_statement`, call the `dp_accounting` libraries directly.\n"
                    ]
                },
                {
                    "name": "stdout",
                    "output_type": "stream",
                    "text": [
                        "\n",
                        "\n",
                        "Epoch 1/10\n"
                    ]
                },
                {
                    "name": "stderr",
                    "output_type": "stream",
                    "text": [
                        "2023-10-12 01:54:29.826997: I tensorflow/core/grappler/optimizers/custom_graph_optimizer_registry.cc:114] Plugin optimizer for device_type GPU is enabled.\n"
                    ]
                },
                {
                    "name": "stdout",
                    "output_type": "stream",
                    "text": [
                        "10/10 [==============================] - 10s 674ms/step - loss: 9.0033 - accuracy: 0.4600 - val_loss: 8.6313 - val_accuracy: 0.5080\n",
                        "Epoch 2/10\n"
                    ]
                },
                {
                    "name": "stderr",
                    "output_type": "stream",
                    "text": [
                        "2023-10-12 01:54:39.346510: I tensorflow/core/grappler/optimizers/custom_graph_optimizer_registry.cc:114] Plugin optimizer for device_type GPU is enabled.\n"
                    ]
                },
                {
                    "name": "stdout",
                    "output_type": "stream",
                    "text": [
                        "10/10 [==============================] - 6s 609ms/step - loss: 8.9409 - accuracy: 0.5280 - val_loss: 12.8332 - val_accuracy: 0.4920\n",
                        "Epoch 3/10\n",
                        "10/10 [==============================] - 7s 657ms/step - loss: 12.6006 - accuracy: 0.5440 - val_loss: 22.3344 - val_accuracy: 0.5200\n",
                        "Epoch 4/10\n",
                        "10/10 [==============================] - 8s 770ms/step - loss: 23.2052 - accuracy: 0.5720 - val_loss: 39.2820 - val_accuracy: 0.5320\n",
                        "Epoch 5/10\n",
                        "10/10 [==============================] - 7s 721ms/step - loss: 40.8724 - accuracy: 0.5680 - val_loss: 67.2007 - val_accuracy: 0.5240\n",
                        "Epoch 6/10\n",
                        "10/10 [==============================] - 7s 711ms/step - loss: 65.2681 - accuracy: 0.5720 - val_loss: 110.5973 - val_accuracy: 0.5040\n",
                        "Epoch 7/10\n",
                        "10/10 [==============================] - 7s 665ms/step - loss: 109.5257 - accuracy: 0.5320 - val_loss: 174.7665 - val_accuracy: 0.5040\n",
                        "Epoch 8/10\n",
                        "10/10 [==============================] - 7s 647ms/step - loss: 170.2266 - accuracy: 0.5600 - val_loss: 265.9124 - val_accuracy: 0.5080\n",
                        "Epoch 9/10\n",
                        "10/10 [==============================] - 6s 598ms/step - loss: 252.6672 - accuracy: 0.5520 - val_loss: 391.0987 - val_accuracy: 0.5200\n",
                        "Epoch 10/10\n",
                        "10/10 [==============================] - 6s 612ms/step - loss: 372.4639 - accuracy: 0.5600 - val_loss: 559.9529 - val_accuracy: 0.5280\n"
                    ]
                },
                {
                    "data": {
                        "image/png": "[encoded data removed]",
                        "text/plain": [
                            "<Figure size 640x480 with 1 Axes>"
                        ]
                    },
                    "metadata": {},
                    "output_type": "display_data"
                },
                {
                    "name": "stdout",
                    "output_type": "stream",
                    "text": [
                        "8/8 [==============================] - 0s 4ms/step\n",
                        "model training  report:\n",
                        "               precision    recall  f1-score   support\n",
                        "\n",
                        "           0       0.53      0.56      0.54       117\n",
                        "           1       0.59      0.57      0.58       133\n",
                        "\n",
                        "    accuracy                           0.56       250\n",
                        "   macro avg       0.56      0.56      0.56       250\n",
                        "weighted avg       0.57      0.56      0.56       250\n",
                        "\n"
                    ]
                },
                {
                    "name": "stderr",
                    "output_type": "stream",
                    "text": [
                        "2023-10-12 01:55:39.572624: I tensorflow/core/grappler/optimizers/custom_graph_optimizer_registry.cc:114] Plugin optimizer for device_type GPU is enabled.\n"
                    ]
                }
            ],
            "source": [
                "epochs = 10\n",
                "batch_size = 25\n",
                "\n",
                "r_DP = safeModel.fit(\n",
                "    X,\n",
                "    y,\n",
                "    validation_data=(Xval, yval),\n",
                "    epochs=epochs,\n",
                "    batch_size=batch_size,\n",
                ")\n",
                "if r_DP == None:\n",
                "    print(\"You have chosen to exit. Reset relevant parameter values then re-run fit().\")\n",
                "else:\n",
                "    plt.plot(r_DP.history[\"accuracy\"], label=\"accuracy\")\n",
                "    plt.plot(r_DP.history[\"val_accuracy\"], label=\"validation accuracy\")\n",
                "    plt.legend()\n",
                "    plt.show()\n",
                "    ypred = safeModel.predict(X)\n",
                "    ylabels = np.argmax(y, axis=1)\n",
                "    ypredlabels = np.argmax(ypred, axis=1)\n",
                "    print(f\"model training  report:\\n {classification_report(ylabels,ypredlabels)}\")"
            ]
        },
        {
            "cell_type": "markdown",
            "id": "b059f431",
            "metadata": {},
            "source": [
                "### Compute privacy and check if requirements for Differential Privacy are met"
            ]
        },
        {
            "cell_type": "code",
            "execution_count": 10,
            "id": "55805bad",
            "metadata": {},
            "outputs": [
                {
                    "name": "stderr",
                    "output_type": "stream",
                    "text": [
                        "WARNING:absl:`compute_dp_sgd_privacy` is deprecated. It does not account for doubling of sensitivity with microbatching, and assumes Poisson subsampling, which is rarely used in practice. Please use `compute_dp_sgd_privacy_statement`, which provides appropriate context for the guarantee. To compute epsilon under different assumptions than those in `compute_dp_sgd_privacy_statement`, call the `dp_accounting` libraries directly.\n"
                    ]
                },
                {
                    "name": "stdout",
                    "output_type": "stream",
                    "text": [
                        "with these settings privacy = 23.09099569905857\n"
                    ]
                }
            ],
            "source": [
                "num_samples = X.shape[0]\n",
                "batch_size = safeModel.batch_size\n",
                "epochs = 20\n",
                "\n",
                "dp_met, privacy = safeModel.dp_epsilon_met(\n",
                "    num_examples=num_samples, batch_size=batch_size, epochs=epochs\n",
                ")\n",
                "\n",
                "print(f\"with these settings privacy = {privacy}\")"
            ]
        },
        {
            "cell_type": "code",
            "execution_count": 12,
            "id": "88413967",
            "metadata": {},
            "outputs": [
                {
                    "name": "stderr",
                    "output_type": "stream",
                    "text": [
                        "WARNING:absl:`compute_dp_sgd_privacy` is deprecated. It does not account for doubling of sensitivity with microbatching, and assumes Poisson subsampling, which is rarely used in practice. Please use `compute_dp_sgd_privacy_statement`, which provides appropriate context for the guarantee. To compute epsilon under different assumptions than those in `compute_dp_sgd_privacy_statement`, call the `dp_accounting` libraries directly.\n"
                    ]
                },
                {
                    "name": "stdout",
                    "output_type": "stream",
                    "text": [
                        "\n",
                        "Satisfies DP: False\n",
                        "\n"
                    ]
                }
            ],
            "source": [
                "dp_met, msg = safeModel.check_epsilon(\n",
                "    X.shape[0], safeModel.batch_size, safeModel.epochs\n",
                ")\n",
                "print(f\"Satisfies DP: {dp_met}\")\n",
                "print(f\"{msg}\")"
            ]
        },
        {
            "cell_type": "markdown",
            "id": "21813930",
            "metadata": {},
            "source": [
                "### Check model and request release\n",
                "\n",
                "Note that the request_release() process will fail if the version checkpointed\n",
                "during the fit() call, is not present\n",
                "- it should be in  \"tfsaves/fit_model.tf\" "
            ]
        },
        {
            "cell_type": "code",
            "execution_count": 13,
            "id": "62a9a6d1",
            "metadata": {},
            "outputs": [
                {
                    "name": "stdout",
                    "output_type": "stream",
                    "text": [
                        "Preliminary checks: Model parameters are within recommended ranges.\n",
                        "\n",
                        "WARNING:tensorflow:No training configuration found in save file, so the model was *not* compiled. Compile it manually.\n"
                    ]
                },
                {
                    "name": "stderr",
                    "output_type": "stream",
                    "text": [
                        "/Users/j4-smith/miniforge3/envs/aisdc-v1.1/lib/python3.9/site-packages/keras/src/initializers/initializers.py:120: UserWarning: The initializer GlorotUniform is unseeded and being called multiple times, which will return identical values each time (even if the initializer is unseeded). Please update your code to provide a seed to the initializer, or avoid using the same initializer instance more than once.\n",
                        "  warnings.warn(\n",
                        "WARNING:tensorflow:No training configuration found in save file, so the model was *not* compiled. Compile it manually.\n"
                    ]
                },
                {
                    "name": "stdout",
                    "output_type": "stream",
                    "text": [
                        "WARNING:tensorflow:No training configuration found in save file, so the model was *not* compiled. Compile it manually.\n"
                    ]
                },
                {
                    "name": "stderr",
                    "output_type": "stream",
                    "text": [
                        "/Users/j4-smith/miniforge3/envs/aisdc-v1.1/lib/python3.9/site-packages/keras/src/initializers/initializers.py:120: UserWarning: The initializer GlorotUniform is unseeded and being called multiple times, which will return identical values each time (even if the initializer is unseeded). Please update your code to provide a seed to the initializer, or avoid using the same initializer instance more than once.\n",
                        "  warnings.warn(\n",
                        "WARNING:tensorflow:No training configuration found in save file, so the model was *not* compiled. Compile it manually.\n",
                        "WARNING:absl:`compute_dp_sgd_privacy` is deprecated. It does not account for doubling of sensitivity with microbatching, and assumes Poisson subsampling, which is rarely used in practice. Please use `compute_dp_sgd_privacy_statement`, which provides appropriate context for the guarantee. To compute epsilon under different assumptions than those in `compute_dp_sgd_privacy_statement`, call the `dp_accounting` libraries directly.\n"
                    ]
                },
                {
                    "name": "stdout",
                    "output_type": "stream",
                    "text": [
                        "Recommendation is further discussion needed WARNING: epsilon 16.608813401454455 is above normal max recommended value.\n",
                        "Discussion with researcher needed.\n",
                        ".\n",
                        "\n"
                    ]
                }
            ],
            "source": [
                "safeModel.save(\"safe1.tf\")\n",
                "safeModel.preliminary_check()\n",
                "safeModel.request_release(path=\"safe1\", ext=\"tf\")"
            ]
        },
        {
            "cell_type": "markdown",
            "id": "7f2e46a5",
            "metadata": {},
            "source": [
                "### Examine Checkfile\n"
            ]
        },
        {
            "cell_type": "code",
            "execution_count": 14,
            "id": "9cccce2f",
            "metadata": {},
            "outputs": [
                {
                    "name": "stdout",
                    "output_type": "stream",
                    "text": [
                        "{\n",
                        "    \"data_name\": \"\",\n",
                        "    \"n_samples\": 0,\n",
                        "    \"features\": {},\n",
                        "    \"n_features\": 0,\n",
                        "    \"n_samples_orig\": 0,\n",
                        "    \"generalisation_error\": \"unknown\",\n",
                        "    \"safemodel\": [\n",
                        "        {\n",
                        "            \"researcher\": \"j4-smith\",\n",
                        "            \"model_type\": \"KerasModel\",\n",
                        "            \"details\": \"Model parameters are within recommended ranges.\\n\",\n",
                        "            \"recommendation\": \"Do not allow release\",\n",
                        "            \"reason\": \"Model parameters are within recommended ranges.\\nRecommendation is not to release because None.\\nWARNING: epsilon 16.608813401454455 is above normal max recommended value.\\nDiscussion with researcher needed.\\n\",\n",
                        "            \"timestamp\": \"2023-10-12 01:56:19\"\n",
                        "        }\n",
                        "    ],\n",
                        "    \"model_path\": \"model.tf\",\n",
                        "    \"model_name\": \"SafeKerasModel\",\n",
                        "    \"model_params\": {}\n",
                        "}\n"
                    ]
                }
            ],
            "source": [
                "target_json = os.path.normpath(\"safe1/target.json\")\n",
                "with open(target_json) as f:\n",
                "    print(f.read())"
            ]
        },
        {
            "cell_type": "markdown",
            "id": "3ac98139-306b-4b52-83e8-021cd87789c1",
            "metadata": {},
            "source": [
                "## load saved model\n",
                "\n",
                "### note that for security reasons we do not include the optimizer in the saved version\n",
                "- This means that tensorflow will assume it has not beeen compiled\n",
                "- so the loss and accuracy functions are not defined. \n",
                "- really urgent users can define losses if they want to use built-in evaluate functions\n",
                "- or they can use standard methods to assess accuracy\n"
            ]
        },
        {
            "cell_type": "code",
            "execution_count": 15,
            "id": "7ea50179-8943-4845-a6e9-f584603f7314",
            "metadata": {},
            "outputs": [
                {
                    "name": "stderr",
                    "output_type": "stream",
                    "text": [
                        "/Users/j4-smith/miniforge3/envs/aisdc-v1.1/lib/python3.9/site-packages/keras/src/initializers/initializers.py:120: UserWarning: The initializer GlorotUniform is unseeded and being called multiple times, which will return identical values each time (even if the initializer is unseeded). Please update your code to provide a seed to the initializer, or avoid using the same initializer instance more than once.\n",
                        "  warnings.warn(\n"
                    ]
                },
                {
                    "name": "stdout",
                    "output_type": "stream",
                    "text": [
                        "WARNING:tensorflow:No training configuration found in save file, so the model was *not* compiled. Compile it manually.\n"
                    ]
                },
                {
                    "name": "stderr",
                    "output_type": "stream",
                    "text": [
                        "WARNING:tensorflow:No training configuration found in save file, so the model was *not* compiled. Compile it manually.\n"
                    ]
                },
                {
                    "name": "stdout",
                    "output_type": "stream",
                    "text": [
                        "WARNING:tensorflow:No training configuration found in save file, so the model was *not* compiled. Compile it manually.\n"
                    ]
                },
                {
                    "name": "stderr",
                    "output_type": "stream",
                    "text": [
                        "/Users/j4-smith/miniforge3/envs/aisdc-v1.1/lib/python3.9/site-packages/keras/src/initializers/initializers.py:120: UserWarning: The initializer GlorotUniform is unseeded and being called multiple times, which will return identical values each time (even if the initializer is unseeded). Please update your code to provide a seed to the initializer, or avoid using the same initializer instance more than once.\n",
                        "  warnings.warn(\n",
                        "WARNING:tensorflow:No training configuration found in save file, so the model was *not* compiled. Compile it manually.\n"
                    ]
                }
            ],
            "source": [
                "from aisdc.safemodel.classifiers.safekeras import load_safe_keras_model\n",
                "\n",
                "model_path = os.path.normpath(\"safe1/model.tf\")\n",
                "status, reloaded_model = load_safe_keras_model(model_path)"
            ]
        },
        {
            "cell_type": "code",
            "execution_count": 16,
            "id": "32c0e0df-eeec-4e16-b0d8-b8bc9107267e",
            "metadata": {},
            "outputs": [
                {
                    "name": "stdout",
                    "output_type": "stream",
                    "text": [
                        "8/8 [==============================] - 0s 2ms/step\n",
                        "reloaded model training  accuracy:\n",
                        "               precision    recall  f1-score   support\n",
                        "\n",
                        "           0       0.53      0.56      0.54       117\n",
                        "           1       0.59      0.57      0.58       133\n",
                        "\n",
                        "    accuracy                           0.56       250\n",
                        "   macro avg       0.56      0.56      0.56       250\n",
                        "weighted avg       0.57      0.56      0.56       250\n",
                        "\n"
                    ]
                },
                {
                    "name": "stderr",
                    "output_type": "stream",
                    "text": [
                        "2023-10-12 01:56:39.307876: I tensorflow/core/grappler/optimizers/custom_graph_optimizer_registry.cc:114] Plugin optimizer for device_type GPU is enabled.\n"
                    ]
                }
            ],
            "source": [
                "ypred = reloaded_model.predict(X)\n",
                "ylabels = np.argmax(y, axis=1)\n",
                "ypredlabels = np.argmax(ypred, axis=1)\n",
                "reloaded_cm = confusion_matrix(ylabels, ypredlabels)\n",
                "print(\n",
                "    f\"reloaded model training  accuracy:\\n {classification_report(ylabels,ypredlabels)}\"\n",
                ")"
            ]
        },
        {
            "cell_type": "code",
            "execution_count": null,
            "id": "840bf7ff",
            "metadata": {},
            "outputs": [],
            "source": []
        }
    ],
    "metadata": {
        "kernelspec": {
            "display_name": "aisdc-v1.1",
            "language": "python",
            "name": "aisdc-v1.1"
        },
        "language_info": {
            "codemirror_mode": {
                "name": "ipython",
                "version": 3
            },
            "file_extension": ".py",
            "mimetype": "text/x-python",
            "name": "python",
            "nbconvert_exporter": "python",
            "pygments_lexer": "ipython3",
            "version": "3.9.18"
        }
    },
    "nbformat": 4,
    "nbformat_minor": 5
}
